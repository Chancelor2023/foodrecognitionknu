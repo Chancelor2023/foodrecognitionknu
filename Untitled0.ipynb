{
  "cells": [
    {
      "cell_type": "markdown",
      "metadata": {
        "id": "view-in-github",
        "colab_type": "text"
      },
      "source": [
        "<a href=\"https://colab.research.google.com/github/Chancelor2023/foodrecognitionknu/blob/main/Untitled0.ipynb\" target=\"_parent\"><img src=\"https://colab.research.google.com/assets/colab-badge.svg\" alt=\"Open In Colab\"/></a>"
      ]
    },
    {
      "cell_type": "code",
      "execution_count": 2,
      "metadata": {
        "colab": {
          "base_uri": "https://localhost:8080/"
        },
        "id": "O6KRDukhA17r",
        "outputId": "f811aef3-542a-435d-ca52-bf12d2aef7e9"
      },
      "outputs": [
        {
          "output_type": "stream",
          "name": "stdout",
          "text": [
            "Collecting ultralytics\n",
            "  Downloading ultralytics-8.3.38-py3-none-any.whl.metadata (35 kB)\n",
            "Requirement already satisfied: numpy>=1.23.0 in /usr/local/lib/python3.10/dist-packages (from ultralytics) (1.26.4)\n",
            "Requirement already satisfied: matplotlib>=3.3.0 in /usr/local/lib/python3.10/dist-packages (from ultralytics) (3.8.0)\n",
            "Requirement already satisfied: opencv-python>=4.6.0 in /usr/local/lib/python3.10/dist-packages (from ultralytics) (4.10.0.84)\n",
            "Requirement already satisfied: pillow>=7.1.2 in /usr/local/lib/python3.10/dist-packages (from ultralytics) (11.0.0)\n",
            "Requirement already satisfied: pyyaml>=5.3.1 in /usr/local/lib/python3.10/dist-packages (from ultralytics) (6.0.2)\n",
            "Requirement already satisfied: requests>=2.23.0 in /usr/local/lib/python3.10/dist-packages (from ultralytics) (2.32.3)\n",
            "Requirement already satisfied: scipy>=1.4.1 in /usr/local/lib/python3.10/dist-packages (from ultralytics) (1.13.1)\n",
            "Requirement already satisfied: torch>=1.8.0 in /usr/local/lib/python3.10/dist-packages (from ultralytics) (2.5.1+cu121)\n",
            "Requirement already satisfied: torchvision>=0.9.0 in /usr/local/lib/python3.10/dist-packages (from ultralytics) (0.20.1+cu121)\n",
            "Requirement already satisfied: tqdm>=4.64.0 in /usr/local/lib/python3.10/dist-packages (from ultralytics) (4.66.6)\n",
            "Requirement already satisfied: psutil in /usr/local/lib/python3.10/dist-packages (from ultralytics) (5.9.5)\n",
            "Requirement already satisfied: py-cpuinfo in /usr/local/lib/python3.10/dist-packages (from ultralytics) (9.0.0)\n",
            "Requirement already satisfied: pandas>=1.1.4 in /usr/local/lib/python3.10/dist-packages (from ultralytics) (2.2.2)\n",
            "Requirement already satisfied: seaborn>=0.11.0 in /usr/local/lib/python3.10/dist-packages (from ultralytics) (0.13.2)\n",
            "Collecting ultralytics-thop>=2.0.0 (from ultralytics)\n",
            "  Downloading ultralytics_thop-2.0.12-py3-none-any.whl.metadata (9.4 kB)\n",
            "Requirement already satisfied: contourpy>=1.0.1 in /usr/local/lib/python3.10/dist-packages (from matplotlib>=3.3.0->ultralytics) (1.3.1)\n",
            "Requirement already satisfied: cycler>=0.10 in /usr/local/lib/python3.10/dist-packages (from matplotlib>=3.3.0->ultralytics) (0.12.1)\n",
            "Requirement already satisfied: fonttools>=4.22.0 in /usr/local/lib/python3.10/dist-packages (from matplotlib>=3.3.0->ultralytics) (4.55.0)\n",
            "Requirement already satisfied: kiwisolver>=1.0.1 in /usr/local/lib/python3.10/dist-packages (from matplotlib>=3.3.0->ultralytics) (1.4.7)\n",
            "Requirement already satisfied: packaging>=20.0 in /usr/local/lib/python3.10/dist-packages (from matplotlib>=3.3.0->ultralytics) (24.2)\n",
            "Requirement already satisfied: pyparsing>=2.3.1 in /usr/local/lib/python3.10/dist-packages (from matplotlib>=3.3.0->ultralytics) (3.2.0)\n",
            "Requirement already satisfied: python-dateutil>=2.7 in /usr/local/lib/python3.10/dist-packages (from matplotlib>=3.3.0->ultralytics) (2.8.2)\n",
            "Requirement already satisfied: pytz>=2020.1 in /usr/local/lib/python3.10/dist-packages (from pandas>=1.1.4->ultralytics) (2024.2)\n",
            "Requirement already satisfied: tzdata>=2022.7 in /usr/local/lib/python3.10/dist-packages (from pandas>=1.1.4->ultralytics) (2024.2)\n",
            "Requirement already satisfied: charset-normalizer<4,>=2 in /usr/local/lib/python3.10/dist-packages (from requests>=2.23.0->ultralytics) (3.4.0)\n",
            "Requirement already satisfied: idna<4,>=2.5 in /usr/local/lib/python3.10/dist-packages (from requests>=2.23.0->ultralytics) (3.10)\n",
            "Requirement already satisfied: urllib3<3,>=1.21.1 in /usr/local/lib/python3.10/dist-packages (from requests>=2.23.0->ultralytics) (2.2.3)\n",
            "Requirement already satisfied: certifi>=2017.4.17 in /usr/local/lib/python3.10/dist-packages (from requests>=2.23.0->ultralytics) (2024.8.30)\n",
            "Requirement already satisfied: filelock in /usr/local/lib/python3.10/dist-packages (from torch>=1.8.0->ultralytics) (3.16.1)\n",
            "Requirement already satisfied: typing-extensions>=4.8.0 in /usr/local/lib/python3.10/dist-packages (from torch>=1.8.0->ultralytics) (4.12.2)\n",
            "Requirement already satisfied: networkx in /usr/local/lib/python3.10/dist-packages (from torch>=1.8.0->ultralytics) (3.4.2)\n",
            "Requirement already satisfied: jinja2 in /usr/local/lib/python3.10/dist-packages (from torch>=1.8.0->ultralytics) (3.1.4)\n",
            "Requirement already satisfied: fsspec in /usr/local/lib/python3.10/dist-packages (from torch>=1.8.0->ultralytics) (2024.10.0)\n",
            "Requirement already satisfied: sympy==1.13.1 in /usr/local/lib/python3.10/dist-packages (from torch>=1.8.0->ultralytics) (1.13.1)\n",
            "Requirement already satisfied: mpmath<1.4,>=1.1.0 in /usr/local/lib/python3.10/dist-packages (from sympy==1.13.1->torch>=1.8.0->ultralytics) (1.3.0)\n",
            "Requirement already satisfied: six>=1.5 in /usr/local/lib/python3.10/dist-packages (from python-dateutil>=2.7->matplotlib>=3.3.0->ultralytics) (1.16.0)\n",
            "Requirement already satisfied: MarkupSafe>=2.0 in /usr/local/lib/python3.10/dist-packages (from jinja2->torch>=1.8.0->ultralytics) (3.0.2)\n",
            "Downloading ultralytics-8.3.38-py3-none-any.whl (896 kB)\n",
            "\u001b[2K   \u001b[90m━━━━━━━━━━━━━━━━━━━━━━━━━━━━━━━━━━━━━━━━\u001b[0m \u001b[32m896.3/896.3 kB\u001b[0m \u001b[31m20.0 MB/s\u001b[0m eta \u001b[36m0:00:00\u001b[0m\n",
            "\u001b[?25hDownloading ultralytics_thop-2.0.12-py3-none-any.whl (26 kB)\n",
            "Installing collected packages: ultralytics-thop, ultralytics\n",
            "Successfully installed ultralytics-8.3.38 ultralytics-thop-2.0.12\n"
          ]
        }
      ],
      "source": [
        "!pip install ultralytics\n"
      ]
    },
    {
      "cell_type": "code",
      "execution_count": 3,
      "metadata": {
        "colab": {
          "base_uri": "https://localhost:8080/"
        },
        "id": "TAQlef0-BUJn",
        "outputId": "751d0ab2-4741-4df9-835d-2b78488ecc5b"
      },
      "outputs": [
        {
          "output_type": "stream",
          "name": "stdout",
          "text": [
            "Creating new Ultralytics Settings v0.0.6 file ✅ \n",
            "View Ultralytics Settings with 'yolo settings' or at '/root/.config/Ultralytics/settings.json'\n",
            "Update Settings with 'yolo settings key=value', i.e. 'yolo settings runs_dir=path/to/dir'. For help see https://docs.ultralytics.com/quickstart/#ultralytics-settings.\n"
          ]
        }
      ],
      "source": [
        "from ultralytics import YOLO\n"
      ]
    },
    {
      "cell_type": "code",
      "execution_count": 4,
      "metadata": {
        "id": "8TjXvk_saVpb"
      },
      "outputs": [],
      "source": [
        "# copy kaggle.json to /root/.kaggle/ folder so that kaggle cli can access it.\n",
        "!mkdir /.kaggle\n",
        "!mv kaggle.json /.kaggle\n",
        "!mv /.kaggle /root/\n",
        "!chmod 600 ~/.kaggle/kaggle.json\n"
      ]
    },
    {
      "cell_type": "code",
      "execution_count": 5,
      "metadata": {
        "colab": {
          "base_uri": "https://localhost:8080/"
        },
        "id": "sJnOzZv57lZ3",
        "outputId": "025b6d0f-3c27-4650-f90c-3acc973f1db8"
      },
      "outputs": [
        {
          "output_type": "stream",
          "name": "stdout",
          "text": [
            "Dataset URL: https://www.kaggle.com/datasets/dansbecker/food-101\n",
            "License(s): other\n",
            "Downloading food-101.zip to /content\n",
            "100% 9.35G/9.38G [01:36<00:00, 190MB/s]\n",
            "100% 9.38G/9.38G [01:36<00:00, 105MB/s]\n"
          ]
        }
      ],
      "source": [
        "!kaggle datasets download -d dansbecker/food-101\n"
      ]
    },
    {
      "cell_type": "code",
      "execution_count": 6,
      "metadata": {
        "id": "pjcLxz9d7904"
      },
      "outputs": [],
      "source": [
        "import zipfile\n",
        "with zipfile.ZipFile(\"food-101.zip\", 'r') as zip_ref:\n",
        "    zip_ref.extractall(\"food-101\")\n"
      ]
    },
    {
      "cell_type": "code",
      "execution_count": null,
      "metadata": {
        "colab": {
          "base_uri": "https://localhost:8080/"
        },
        "id": "t5unJOQR8k5O",
        "outputId": "13cc26e9-fef8-43bf-948d-8e68e6b0d236"
      },
      "outputs": [
        {
          "output_type": "execute_result",
          "data": {
            "text/plain": [
              "['food-101.zip', 'food-101']"
            ]
          },
          "metadata": {},
          "execution_count": 7
        }
      ],
      "source": [
        "import os\n",
        "os.listdir(\"food-101\")\n"
      ]
    },
    {
      "cell_type": "code",
      "execution_count": null,
      "metadata": {
        "colab": {
          "base_uri": "https://localhost:8080/"
        },
        "id": "hYSb9NSxBp0J",
        "outputId": "03119d00-13cf-447c-b1fb-757a3b63b47b"
      },
      "outputs": [
        {
          "name": "stdout",
          "output_type": "stream",
          "text": [
            "Folder /content/dataset has been deleted.\n"
          ]
        }
      ],
      "source": [
        "import shutil\n",
        "\n",
        "# Path to the folder you want to delete\n",
        "folder_path = \"/content/dataset\"\n",
        "\n",
        "# Remove the folder and all its contents\n",
        "shutil.rmtree(folder_path)\n",
        "print(f\"Folder {folder_path} has been deleted.\")\n"
      ]
    },
    {
      "cell_type": "code",
      "execution_count": 7,
      "metadata": {
        "colab": {
          "base_uri": "https://localhost:8080/"
        },
        "id": "4dIgmP_CFbgO",
        "outputId": "f426292a-36a3-4469-9633-96360159b1b5"
      },
      "outputs": [
        {
          "output_type": "stream",
          "name": "stdout",
          "text": [
            "Dataset has been split into train and val folders.\n"
          ]
        }
      ],
      "source": [
        "import os\n",
        "import shutil\n",
        "import random\n",
        "\n",
        "# Paths\n",
        "base_dir = \"/content/food-101/food-101/food-101/images\"  # Correct path to images\n",
        "train_dir = \"/content/dataset/images/train\"\n",
        "val_dir = \"/content/dataset/images/val\"\n",
        "\n",
        "# Create train/val directories\n",
        "os.makedirs(train_dir, exist_ok=True)\n",
        "os.makedirs(val_dir, exist_ok=True)\n",
        "\n",
        "# Split data\n",
        "for class_name in os.listdir(base_dir):\n",
        "    class_path = os.path.join(base_dir, class_name)\n",
        "\n",
        "    # Skip files that are not directories\n",
        "    if not os.path.isdir(class_path):\n",
        "        continue\n",
        "\n",
        "    images = os.listdir(class_path)\n",
        "    random.shuffle(images)\n",
        "    train_split = int(0.8 * len(images))  # 80% for training\n",
        "\n",
        "    # Train and val splits\n",
        "    train_images = images[:train_split]\n",
        "    val_images = images[train_split:]\n",
        "\n",
        "    # Copy to train/val folders\n",
        "    os.makedirs(os.path.join(train_dir, class_name), exist_ok=True)\n",
        "    os.makedirs(os.path.join(val_dir, class_name), exist_ok=True)\n",
        "\n",
        "    for img in train_images:\n",
        "        shutil.copy(os.path.join(class_path, img), os.path.join(train_dir, class_name, img))\n",
        "    for img in val_images:\n",
        "        shutil.copy(os.path.join(class_path, img), os.path.join(val_dir, class_name, img))\n",
        "\n",
        "print(\"Dataset has been split into train and val folders.\")\n"
      ]
    },
    {
      "cell_type": "code",
      "execution_count": 8,
      "metadata": {
        "id": "1fjY9DpSG-GH"
      },
      "outputs": [],
      "source": [
        "import os\n",
        "\n",
        "classes_dir = \"/content/food-101/food-101/food-101/images\"  # Correct path\n",
        "class_names = sorted(os.listdir(classes_dir))\n",
        "\n",
        "# Write the data.yaml file\n",
        "with open(\"data.yaml\", \"w\") as f:\n",
        "    f.write(f\"train: /content/dataset/images/train\\n\")\n",
        "    f.write(f\"val: /content/dataset/images/val\\n\")\n",
        "    f.write(f\"nc: {len(class_names)}\\n\")\n",
        "    f.write(\"names: \" + str(class_names))\n"
      ]
    },
    {
      "cell_type": "code",
      "source": [
        "!pip install roboflow\n",
        "\n"
      ],
      "metadata": {
        "colab": {
          "base_uri": "https://localhost:8080/"
        },
        "id": "VJ9vOfLu9Yn5",
        "outputId": "12f7e71b-2da4-4e20-c007-e6f30ac5fe22"
      },
      "execution_count": 15,
      "outputs": [
        {
          "output_type": "stream",
          "name": "stdout",
          "text": [
            "Requirement already satisfied: roboflow in /usr/local/lib/python3.10/dist-packages (1.1.49)\n",
            "Requirement already satisfied: certifi in /usr/local/lib/python3.10/dist-packages (from roboflow) (2024.8.30)\n",
            "Requirement already satisfied: idna==3.7 in /usr/local/lib/python3.10/dist-packages (from roboflow) (3.7)\n",
            "Requirement already satisfied: cycler in /usr/local/lib/python3.10/dist-packages (from roboflow) (0.12.1)\n",
            "Requirement already satisfied: kiwisolver>=1.3.1 in /usr/local/lib/python3.10/dist-packages (from roboflow) (1.4.7)\n",
            "Requirement already satisfied: matplotlib in /usr/local/lib/python3.10/dist-packages (from roboflow) (3.8.0)\n",
            "Requirement already satisfied: numpy>=1.18.5 in /usr/local/lib/python3.10/dist-packages (from roboflow) (1.26.4)\n",
            "Requirement already satisfied: opencv-python-headless==4.10.0.84 in /usr/local/lib/python3.10/dist-packages (from roboflow) (4.10.0.84)\n",
            "Requirement already satisfied: Pillow>=7.1.2 in /usr/local/lib/python3.10/dist-packages (from roboflow) (11.0.0)\n",
            "Requirement already satisfied: python-dateutil in /usr/local/lib/python3.10/dist-packages (from roboflow) (2.8.2)\n",
            "Requirement already satisfied: python-dotenv in /usr/local/lib/python3.10/dist-packages (from roboflow) (1.0.1)\n",
            "Requirement already satisfied: requests in /usr/local/lib/python3.10/dist-packages (from roboflow) (2.32.3)\n",
            "Requirement already satisfied: six in /usr/local/lib/python3.10/dist-packages (from roboflow) (1.16.0)\n",
            "Requirement already satisfied: urllib3>=1.26.6 in /usr/local/lib/python3.10/dist-packages (from roboflow) (2.2.3)\n",
            "Requirement already satisfied: tqdm>=4.41.0 in /usr/local/lib/python3.10/dist-packages (from roboflow) (4.66.6)\n",
            "Requirement already satisfied: PyYAML>=5.3.1 in /usr/local/lib/python3.10/dist-packages (from roboflow) (6.0.2)\n",
            "Requirement already satisfied: requests-toolbelt in /usr/local/lib/python3.10/dist-packages (from roboflow) (1.0.0)\n",
            "Requirement already satisfied: filetype in /usr/local/lib/python3.10/dist-packages (from roboflow) (1.2.0)\n",
            "Requirement already satisfied: contourpy>=1.0.1 in /usr/local/lib/python3.10/dist-packages (from matplotlib->roboflow) (1.3.1)\n",
            "Requirement already satisfied: fonttools>=4.22.0 in /usr/local/lib/python3.10/dist-packages (from matplotlib->roboflow) (4.55.0)\n",
            "Requirement already satisfied: packaging>=20.0 in /usr/local/lib/python3.10/dist-packages (from matplotlib->roboflow) (24.2)\n",
            "Requirement already satisfied: pyparsing>=2.3.1 in /usr/local/lib/python3.10/dist-packages (from matplotlib->roboflow) (3.2.0)\n",
            "Requirement already satisfied: charset-normalizer<4,>=2 in /usr/local/lib/python3.10/dist-packages (from requests->roboflow) (3.4.0)\n"
          ]
        }
      ]
    },
    {
      "cell_type": "code",
      "source": [
        "from roboflow import Roboflow\n",
        "\n",
        "# Use your private API key\n",
        "rf = Roboflow(api_key=\"XoyU1zhibAWn6eowNgR4\")\n",
        "\n",
        "# Specify the workspace directly\n",
        "workspace = rf.workspace(\"foodrecognitionknu\")\n",
        "\n",
        "# Print all projects in the workspace to verify the correct project name\n",
        "print(\"Projects in Workspace:\", workspace.projects())\n",
        "\n",
        "# Access the project using the correct name from the printed list\n",
        "project_name = \"food-recognition-obwwe\" # Replace with actual project name from the printed list\n",
        "project = workspace.project(project_name)\n",
        "\n",
        "# Try uploading an image or directory\n",
        "project.upload(\"dataset/images/val/apple_pie\")"
      ],
      "metadata": {
        "colab": {
          "base_uri": "https://localhost:8080/"
        },
        "id": "Jx7n44xI9c6A",
        "outputId": "d7940e15-567a-454c-d266-08f7b0d3026a"
      },
      "execution_count": 21,
      "outputs": [
        {
          "output_type": "stream",
          "name": "stdout",
          "text": [
            "loading Roboflow workspace...\n",
            "Projects in Workspace: ['foodrecognitionknu/food-recognition-obwwe']\n",
            "loading Roboflow project...\n",
            "[ dataset/images/val/apple_pie/2607694.jpg ] was uploaded succesfully.\n",
            "[ dataset/images/val/apple_pie/395303.jpg ] was uploaded succesfully.\n",
            "[ dataset/images/val/apple_pie/2627767.jpg ] was uploaded succesfully.\n",
            "[ dataset/images/val/apple_pie/937118.jpg ] was uploaded succesfully.\n",
            "[ dataset/images/val/apple_pie/2040919.jpg ] was uploaded succesfully.\n",
            "[ dataset/images/val/apple_pie/3269273.jpg ] was uploaded succesfully.\n",
            "[ dataset/images/val/apple_pie/2610017.jpg ] was uploaded succesfully.\n",
            "[ dataset/images/val/apple_pie/3240840.jpg ] was uploaded succesfully.\n",
            "[ dataset/images/val/apple_pie/1648647.jpg ] was uploaded succesfully.\n",
            "[ dataset/images/val/apple_pie/3593810.jpg ] was uploaded succesfully.\n",
            "[ dataset/images/val/apple_pie/3004621.jpg ] was uploaded succesfully.\n",
            "[ dataset/images/val/apple_pie/21063.jpg ] was uploaded succesfully.\n",
            "[ dataset/images/val/apple_pie/532019.jpg ] was uploaded succesfully.\n",
            "[ dataset/images/val/apple_pie/3577845.jpg ] was uploaded succesfully.\n",
            "[ dataset/images/val/apple_pie/3638370.jpg ] was uploaded succesfully.\n",
            "[ dataset/images/val/apple_pie/631412.jpg ] was uploaded succesfully.\n",
            "[ dataset/images/val/apple_pie/1280767.jpg ] was uploaded succesfully.\n",
            "[ dataset/images/val/apple_pie/2143318.jpg ] was uploaded succesfully.\n",
            "[ dataset/images/val/apple_pie/3746599.jpg ] was uploaded succesfully.\n",
            "[ dataset/images/val/apple_pie/250066.jpg ] was uploaded succesfully.\n",
            "[ dataset/images/val/apple_pie/2768268.jpg ] was uploaded succesfully.\n",
            "[ dataset/images/val/apple_pie/1461580.jpg ] was uploaded succesfully.\n",
            "[ dataset/images/val/apple_pie/3594610.jpg ] was uploaded succesfully.\n",
            "[ dataset/images/val/apple_pie/2447106.jpg ] was uploaded succesfully.\n",
            "[ dataset/images/val/apple_pie/3619289.jpg ] was uploaded succesfully.\n",
            "[ dataset/images/val/apple_pie/3501006.jpg ] was uploaded succesfully.\n",
            "[ dataset/images/val/apple_pie/2769470.jpg ] was uploaded succesfully.\n",
            "[ dataset/images/val/apple_pie/89035.jpg ] was uploaded succesfully.\n",
            "[ dataset/images/val/apple_pie/562659.jpg ] was uploaded succesfully.\n",
            "[ dataset/images/val/apple_pie/2656095.jpg ] was uploaded succesfully.\n",
            "[ dataset/images/val/apple_pie/2523219.jpg ] was uploaded succesfully.\n",
            "[ dataset/images/val/apple_pie/64846.jpg ] was uploaded succesfully.\n",
            "[ dataset/images/val/apple_pie/2051864.jpg ] was uploaded succesfully.\n",
            "[ dataset/images/val/apple_pie/1830582.jpg ] was uploaded succesfully.\n",
            "[ dataset/images/val/apple_pie/488508.jpg ] was uploaded succesfully.\n",
            "[ dataset/images/val/apple_pie/2445712.jpg ] was uploaded succesfully.\n",
            "[ dataset/images/val/apple_pie/3760032.jpg ] was uploaded succesfully.\n",
            "[ dataset/images/val/apple_pie/2335873.jpg ] was uploaded succesfully.\n",
            "[ dataset/images/val/apple_pie/2961406.jpg ] was uploaded succesfully.\n",
            "[ dataset/images/val/apple_pie/722783.jpg ] was uploaded succesfully.\n",
            "[ dataset/images/val/apple_pie/2153869.jpg ] was uploaded succesfully.\n",
            "[ dataset/images/val/apple_pie/947689.jpg ] was uploaded succesfully.\n",
            "[ dataset/images/val/apple_pie/829949.jpg ] was uploaded succesfully.\n",
            "[ dataset/images/val/apple_pie/2569986.jpg ] was uploaded succesfully.\n",
            "[ dataset/images/val/apple_pie/3031488.jpg ] was uploaded succesfully.\n",
            "[ dataset/images/val/apple_pie/175848.jpg ] was uploaded succesfully.\n",
            "[ dataset/images/val/apple_pie/2574026.jpg ] was uploaded succesfully.\n",
            "[ dataset/images/val/apple_pie/299931.jpg ] was uploaded succesfully.\n",
            "[ dataset/images/val/apple_pie/1886600.jpg ] was uploaded succesfully.\n",
            "[ dataset/images/val/apple_pie/1272778.jpg ] was uploaded succesfully.\n",
            "[ dataset/images/val/apple_pie/2601847.jpg ] was uploaded succesfully.\n",
            "[ dataset/images/val/apple_pie/3176186.jpg ] was uploaded succesfully.\n",
            "[ dataset/images/val/apple_pie/687506.jpg ] was uploaded succesfully.\n",
            "[ dataset/images/val/apple_pie/321197.jpg ] was uploaded succesfully.\n",
            "[ dataset/images/val/apple_pie/3831869.jpg ] was uploaded succesfully.\n",
            "[ dataset/images/val/apple_pie/2496124.jpg ] was uploaded succesfully.\n",
            "[ dataset/images/val/apple_pie/424996.jpg ] was uploaded succesfully.\n",
            "[ dataset/images/val/apple_pie/157083.jpg ] was uploaded succesfully.\n",
            "[ dataset/images/val/apple_pie/2084963.jpg ] was uploaded succesfully.\n",
            "[ dataset/images/val/apple_pie/3037459.jpg ] was uploaded succesfully.\n",
            "[ dataset/images/val/apple_pie/2245633.jpg ] was uploaded succesfully.\n",
            "[ dataset/images/val/apple_pie/1174330.jpg ] was uploaded succesfully.\n",
            "[ dataset/images/val/apple_pie/2086645.jpg ] was uploaded succesfully.\n",
            "[ dataset/images/val/apple_pie/2570111.jpg ] was uploaded succesfully.\n",
            "[ dataset/images/val/apple_pie/1185654.jpg ] was uploaded succesfully.\n",
            "[ dataset/images/val/apple_pie/2518174.jpg ] was uploaded succesfully.\n",
            "[ dataset/images/val/apple_pie/3327221.jpg ] was uploaded succesfully.\n",
            "[ dataset/images/val/apple_pie/1710288.jpg ] was uploaded succesfully.\n",
            "[ dataset/images/val/apple_pie/1984895.jpg ] was uploaded succesfully.\n",
            "[ dataset/images/val/apple_pie/1068632.jpg ] was uploaded succesfully.\n",
            "[ dataset/images/val/apple_pie/2721937.jpg ] was uploaded succesfully.\n",
            "[ dataset/images/val/apple_pie/1469191.jpg ] was uploaded succesfully.\n",
            "[ dataset/images/val/apple_pie/229142.jpg ] was uploaded succesfully.\n",
            "[ dataset/images/val/apple_pie/739410.jpg ] was uploaded succesfully.\n",
            "[ dataset/images/val/apple_pie/1753935.jpg ] was uploaded succesfully.\n",
            "[ dataset/images/val/apple_pie/892425.jpg ] was uploaded succesfully.\n",
            "[ dataset/images/val/apple_pie/1514110.jpg ] was uploaded succesfully.\n",
            "[ dataset/images/val/apple_pie/1074942.jpg ] was uploaded succesfully.\n",
            "[ dataset/images/val/apple_pie/543253.jpg ] was uploaded succesfully.\n",
            "[ dataset/images/val/apple_pie/3485833.jpg ] was uploaded succesfully.\n",
            "[ dataset/images/val/apple_pie/1822764.jpg ] was uploaded succesfully.\n",
            "[ dataset/images/val/apple_pie/1854241.jpg ] was uploaded succesfully.\n",
            "[ dataset/images/val/apple_pie/1818676.jpg ] was uploaded succesfully.\n",
            "[ dataset/images/val/apple_pie/957090.jpg ] was uploaded succesfully.\n",
            "[ dataset/images/val/apple_pie/879842.jpg ] was uploaded succesfully.\n",
            "[ dataset/images/val/apple_pie/3318370.jpg ] was uploaded succesfully.\n",
            "[ dataset/images/val/apple_pie/2967700.jpg ] was uploaded succesfully.\n",
            "[ dataset/images/val/apple_pie/156078.jpg ] was uploaded succesfully.\n",
            "[ dataset/images/val/apple_pie/3563222.jpg ] was uploaded succesfully.\n",
            "[ dataset/images/val/apple_pie/300660.jpg ] was uploaded succesfully.\n",
            "[ dataset/images/val/apple_pie/867502.jpg ] was uploaded succesfully.\n",
            "[ dataset/images/val/apple_pie/1581291.jpg ] was uploaded succesfully.\n",
            "[ dataset/images/val/apple_pie/63651.jpg ] was uploaded succesfully.\n",
            "[ dataset/images/val/apple_pie/3727785.jpg ] was uploaded succesfully.\n",
            "[ dataset/images/val/apple_pie/1946376.jpg ] was uploaded succesfully.\n",
            "[ dataset/images/val/apple_pie/2368252.jpg ] was uploaded succesfully.\n",
            "[ dataset/images/val/apple_pie/3819511.jpg ] was uploaded succesfully.\n",
            "[ dataset/images/val/apple_pie/2214366.jpg ] was uploaded succesfully.\n",
            "[ dataset/images/val/apple_pie/2600379.jpg ] was uploaded succesfully.\n",
            "[ dataset/images/val/apple_pie/2922138.jpg ] was uploaded succesfully.\n",
            "[ dataset/images/val/apple_pie/2439188.jpg ] was uploaded succesfully.\n",
            "[ dataset/images/val/apple_pie/1767333.jpg ] was uploaded succesfully.\n",
            "[ dataset/images/val/apple_pie/794735.jpg ] was uploaded succesfully.\n",
            "[ dataset/images/val/apple_pie/865073.jpg ] was uploaded succesfully.\n",
            "[ dataset/images/val/apple_pie/262170.jpg ] was uploaded succesfully.\n",
            "[ dataset/images/val/apple_pie/2995608.jpg ] was uploaded succesfully.\n",
            "[ dataset/images/val/apple_pie/2615584.jpg ] was uploaded succesfully.\n",
            "[ dataset/images/val/apple_pie/2579504.jpg ] was uploaded succesfully.\n",
            "[ dataset/images/val/apple_pie/1214326.jpg ] was uploaded succesfully.\n",
            "[ dataset/images/val/apple_pie/3670966.jpg ] was uploaded succesfully.\n",
            "[ dataset/images/val/apple_pie/3277458.jpg ] was uploaded succesfully.\n",
            "[ dataset/images/val/apple_pie/532972.jpg ] was uploaded succesfully.\n",
            "[ dataset/images/val/apple_pie/1764457.jpg ] was uploaded succesfully.\n",
            "[ dataset/images/val/apple_pie/1196628.jpg ] was uploaded succesfully.\n",
            "[ dataset/images/val/apple_pie/481805.jpg ] was uploaded succesfully.\n",
            "[ dataset/images/val/apple_pie/1486972.jpg ] was uploaded succesfully.\n",
            "[ dataset/images/val/apple_pie/532423.jpg ] was uploaded succesfully.\n",
            "[ dataset/images/val/apple_pie/2520431.jpg ] was uploaded succesfully.\n",
            "[ dataset/images/val/apple_pie/1756344.jpg ] was uploaded succesfully.\n",
            "[ dataset/images/val/apple_pie/3637115.jpg ] was uploaded succesfully.\n",
            "[ dataset/images/val/apple_pie/2239083.jpg ] was uploaded succesfully.\n",
            "[ dataset/images/val/apple_pie/245712.jpg ] was uploaded succesfully.\n",
            "[ dataset/images/val/apple_pie/3023096.jpg ] was uploaded succesfully.\n",
            "[ dataset/images/val/apple_pie/1735072.jpg ] was uploaded succesfully.\n",
            "[ dataset/images/val/apple_pie/959388.jpg ] was uploaded succesfully.\n",
            "[ dataset/images/val/apple_pie/1990658.jpg ] was uploaded succesfully.\n",
            "[ dataset/images/val/apple_pie/2969119.jpg ] was uploaded succesfully.\n",
            "[ dataset/images/val/apple_pie/3570483.jpg ] was uploaded succesfully.\n",
            "[ dataset/images/val/apple_pie/839808.jpg ] was uploaded succesfully.\n",
            "[ dataset/images/val/apple_pie/236966.jpg ] was uploaded succesfully.\n",
            "[ dataset/images/val/apple_pie/3691035.jpg ] was uploaded succesfully.\n",
            "[ dataset/images/val/apple_pie/2929448.jpg ] was uploaded succesfully.\n",
            "[ dataset/images/val/apple_pie/2421227.jpg ] was uploaded succesfully.\n",
            "[ dataset/images/val/apple_pie/1252879.jpg ] was uploaded succesfully.\n",
            "[ dataset/images/val/apple_pie/1789100.jpg ] was uploaded succesfully.\n",
            "[ dataset/images/val/apple_pie/817552.jpg ] was uploaded succesfully.\n",
            "[ dataset/images/val/apple_pie/1295996.jpg ] was uploaded succesfully.\n",
            "[ dataset/images/val/apple_pie/3503020.jpg ] was uploaded succesfully.\n",
            "[ dataset/images/val/apple_pie/1167170.jpg ] was uploaded succesfully.\n",
            "[ dataset/images/val/apple_pie/960669.jpg ] was uploaded succesfully.\n",
            "[ dataset/images/val/apple_pie/2348133.jpg ] was uploaded succesfully.\n",
            "[ dataset/images/val/apple_pie/551535.jpg ] was uploaded succesfully.\n",
            "[ dataset/images/val/apple_pie/1174241.jpg ] was uploaded succesfully.\n",
            "[ dataset/images/val/apple_pie/1771395.jpg ] was uploaded succesfully.\n",
            "[ dataset/images/val/apple_pie/2400434.jpg ] was uploaded succesfully.\n",
            "[ dataset/images/val/apple_pie/360406.jpg ] was uploaded succesfully.\n",
            "[ dataset/images/val/apple_pie/2853890.jpg ] was uploaded succesfully.\n",
            "[ dataset/images/val/apple_pie/451719.jpg ] was uploaded succesfully.\n",
            "[ dataset/images/val/apple_pie/1906009.jpg ] was uploaded succesfully.\n",
            "[ dataset/images/val/apple_pie/2928660.jpg ] was uploaded succesfully.\n",
            "[ dataset/images/val/apple_pie/1977565.jpg ] was uploaded succesfully.\n",
            "[ dataset/images/val/apple_pie/769522.jpg ] was uploaded succesfully.\n",
            "[ dataset/images/val/apple_pie/1026328.jpg ] was uploaded succesfully.\n",
            "[ dataset/images/val/apple_pie/2458159.jpg ] was uploaded succesfully.\n",
            "[ dataset/images/val/apple_pie/939246.jpg ] was uploaded succesfully.\n",
            "[ dataset/images/val/apple_pie/2881877.jpg ] was uploaded succesfully.\n",
            "[ dataset/images/val/apple_pie/771595.jpg ] was uploaded succesfully.\n",
            "[ dataset/images/val/apple_pie/1103795.jpg ] was uploaded succesfully.\n",
            "[ dataset/images/val/apple_pie/1199851.jpg ] was uploaded succesfully.\n",
            "[ dataset/images/val/apple_pie/1657587.jpg ] was uploaded succesfully.\n",
            "[ dataset/images/val/apple_pie/544151.jpg ] was uploaded succesfully.\n",
            "[ dataset/images/val/apple_pie/1343307.jpg ] was uploaded succesfully.\n",
            "[ dataset/images/val/apple_pie/2412284.jpg ] was uploaded succesfully.\n",
            "[ dataset/images/val/apple_pie/2548878.jpg ] was uploaded succesfully.\n",
            "[ dataset/images/val/apple_pie/727825.jpg ] was uploaded succesfully.\n",
            "[ dataset/images/val/apple_pie/650815.jpg ] was uploaded succesfully.\n",
            "[ dataset/images/val/apple_pie/495046.jpg ] was uploaded succesfully.\n",
            "[ dataset/images/val/apple_pie/3191226.jpg ] was uploaded succesfully.\n",
            "[ dataset/images/val/apple_pie/3385074.jpg ] was uploaded succesfully.\n",
            "[ dataset/images/val/apple_pie/1994318.jpg ] was uploaded succesfully.\n",
            "[ dataset/images/val/apple_pie/2254489.jpg ] was uploaded succesfully.\n",
            "[ dataset/images/val/apple_pie/455977.jpg ] was uploaded succesfully.\n",
            "[ dataset/images/val/apple_pie/246113.jpg ] was uploaded succesfully.\n",
            "[ dataset/images/val/apple_pie/860651.jpg ] was uploaded succesfully.\n",
            "[ dataset/images/val/apple_pie/2536578.jpg ] was uploaded succesfully.\n",
            "[ dataset/images/val/apple_pie/2302866.jpg ] was uploaded succesfully.\n",
            "[ dataset/images/val/apple_pie/3809728.jpg ] was uploaded succesfully.\n",
            "[ dataset/images/val/apple_pie/2605751.jpg ] was uploaded succesfully.\n",
            "[ dataset/images/val/apple_pie/3209538.jpg ] was uploaded succesfully.\n",
            "[ dataset/images/val/apple_pie/3160240.jpg ] was uploaded succesfully.\n",
            "[ dataset/images/val/apple_pie/2601590.jpg ] was uploaded succesfully.\n",
            "[ dataset/images/val/apple_pie/3253793.jpg ] was uploaded succesfully.\n",
            "[ dataset/images/val/apple_pie/1595134.jpg ] was uploaded succesfully.\n",
            "[ dataset/images/val/apple_pie/1786261.jpg ] was uploaded succesfully.\n",
            "[ dataset/images/val/apple_pie/3068872.jpg ] was uploaded succesfully.\n",
            "[ dataset/images/val/apple_pie/2206034.jpg ] was uploaded succesfully.\n",
            "[ dataset/images/val/apple_pie/2915359.jpg ] was uploaded succesfully.\n",
            "[ dataset/images/val/apple_pie/168971.jpg ] was uploaded succesfully.\n",
            "[ dataset/images/val/apple_pie/438094.jpg ] was uploaded succesfully.\n",
            "[ dataset/images/val/apple_pie/2872568.jpg ] was uploaded succesfully.\n",
            "[ dataset/images/val/apple_pie/2447421.jpg ] was uploaded succesfully.\n",
            "[ dataset/images/val/apple_pie/2074694.jpg ] was uploaded succesfully.\n",
            "[ dataset/images/val/apple_pie/3313267.jpg ] was uploaded succesfully.\n",
            "[ dataset/images/val/apple_pie/2034818.jpg ] was uploaded succesfully.\n",
            "[ dataset/images/val/apple_pie/2914000.jpg ] was uploaded succesfully.\n",
            "[ dataset/images/val/apple_pie/3636185.jpg ] was uploaded succesfully.\n",
            "[ dataset/images/val/apple_pie/257378.jpg ] was uploaded succesfully.\n",
            "[ dataset/images/val/apple_pie/861244.jpg ] was uploaded succesfully.\n",
            "[ dataset/images/val/apple_pie/1931301.jpg ] was uploaded succesfully.\n",
            "[ dataset/images/val/apple_pie/2566460.jpg ] was uploaded succesfully.\n"
          ]
        }
      ]
    },
    {
      "cell_type": "code",
      "source": [
        "from roboflow import Roboflow\n",
        "rf = Roboflow(api_key=\"XoyU1zhibAWn6eowNgR4\")\n",
        "project = rf.workspace(\"foodrecognitionknu\").project(\"food-recognition-obwwe\")\n",
        "version = project.version(1)\n",
        "dataset = version.download(\"yolov8\")\n"
      ],
      "metadata": {
        "colab": {
          "base_uri": "https://localhost:8080/"
        },
        "id": "xRv5-UTajB1h",
        "outputId": "ef0dabaf-e75e-4b33-fa06-9c52230c1e61"
      },
      "execution_count": 22,
      "outputs": [
        {
          "output_type": "stream",
          "name": "stdout",
          "text": [
            "loading Roboflow workspace...\n",
            "loading Roboflow project...\n"
          ]
        },
        {
          "output_type": "stream",
          "name": "stderr",
          "text": [
            "Downloading Dataset Version Zip in Food-recognition-1 to yolov8:: 100%|██████████| 9053/9053 [00:00<00:00, 27196.53it/s]"
          ]
        },
        {
          "output_type": "stream",
          "name": "stdout",
          "text": [
            "\n"
          ]
        },
        {
          "output_type": "stream",
          "name": "stderr",
          "text": [
            "\n",
            "Extracting Dataset Version Zip to Food-recognition-1 in yolov8:: 100%|██████████| 404/404 [00:00<00:00, 7529.60it/s]\n"
          ]
        }
      ]
    },
    {
      "cell_type": "code",
      "source": [
        "import shutil\n",
        "\n",
        "# Define the apple_pie folder path\n",
        "apple_pie_path = \"dataset/images/val/apple_pie\"\n",
        "\n",
        "# Remove the folder and its contents\n",
        "shutil.rmtree(apple_pie_path)\n",
        "\n",
        "# Recreate the empty folder\n",
        "import os\n",
        "os.makedirs(apple_pie_path)\n",
        "\n",
        "# Paths for source and destination folders\n",
        "images_source = \"Food-recognition-1/valid/images\"\n",
        "labels_source = \"Food-recognition-1/valid/labels\"\n",
        "destination = \"dataset/images/val/apple_pie\"\n",
        "\n",
        "# Copy images\n",
        "shutil.copytree(images_source, os.path.join(destination, \"images\"))\n",
        "\n",
        "# Copy labels\n",
        "shutil.copytree(labels_source, os.path.join(destination, \"labels\"))\n"
      ],
      "metadata": {
        "colab": {
          "base_uri": "https://localhost:8080/",
          "height": 36
        },
        "id": "bzd03rDqk65o",
        "outputId": "57675fe8-07e3-4eb1-fa9b-0b83fc5d1967"
      },
      "execution_count": 23,
      "outputs": [
        {
          "output_type": "execute_result",
          "data": {
            "text/plain": [
              "'dataset/images/val/apple_pie/labels'"
            ],
            "application/vnd.google.colaboratory.intrinsic+json": {
              "type": "string"
            }
          },
          "metadata": {},
          "execution_count": 23
        }
      ]
    },
    {
      "cell_type": "code",
      "source": [
        "from roboflow import Roboflow\n",
        "\n",
        "# Use your private API key\n",
        "rf = Roboflow(api_key=\"XoyU1zhibAWn6eowNgR4\")\n",
        "\n",
        "# Specify the workspace directly\n",
        "workspace = rf.workspace(\"foodrecognitionknu\")\n",
        "\n",
        "# Print all projects in the workspace to verify the correct project name\n",
        "print(\"Projects in Workspace:\", workspace.projects())\n",
        "\n",
        "# Access the project using the correct name from the printed list\n",
        "project_name = \"food-recognition-obwwe\" # Replace with actual project name from the printed list\n",
        "project = workspace.project(project_name)\n",
        "\n",
        "# Try uploading an image or directory\n",
        "project.upload(\"dataset/images/val/baby_back_ribs\")"
      ],
      "metadata": {
        "colab": {
          "base_uri": "https://localhost:8080/"
        },
        "id": "-dEU8W3nlO8R",
        "outputId": "d8f6e9ea-08fc-40d6-bb77-7114eb6fe97f"
      },
      "execution_count": 24,
      "outputs": [
        {
          "output_type": "stream",
          "name": "stdout",
          "text": [
            "loading Roboflow workspace...\n",
            "Projects in Workspace: ['foodrecognitionknu/food-recognition-obwwe']\n",
            "loading Roboflow project...\n",
            "[ dataset/images/val/baby_back_ribs/2033487.jpg ] was uploaded succesfully.\n",
            "[ dataset/images/val/baby_back_ribs/1429122.jpg ] was uploaded succesfully.\n",
            "[ dataset/images/val/baby_back_ribs/3102071.jpg ] was uploaded succesfully.\n",
            "[ dataset/images/val/baby_back_ribs/2245405.jpg ] was uploaded succesfully.\n",
            "[ dataset/images/val/baby_back_ribs/2889850.jpg ] was uploaded succesfully.\n",
            "[ dataset/images/val/baby_back_ribs/582221.jpg ] was uploaded succesfully.\n",
            "[ dataset/images/val/baby_back_ribs/1615155.jpg ] was uploaded succesfully.\n",
            "[ dataset/images/val/baby_back_ribs/1774172.jpg ] was uploaded succesfully.\n",
            "[ dataset/images/val/baby_back_ribs/1966568.jpg ] was uploaded succesfully.\n",
            "[ dataset/images/val/baby_back_ribs/329435.jpg ] was uploaded succesfully.\n",
            "[ dataset/images/val/baby_back_ribs/2564192.jpg ] was uploaded succesfully.\n",
            "[ dataset/images/val/baby_back_ribs/2579984.jpg ] was uploaded succesfully.\n",
            "[ dataset/images/val/baby_back_ribs/2106918.jpg ] was uploaded succesfully.\n",
            "[ dataset/images/val/baby_back_ribs/1169971.jpg ] was uploaded succesfully.\n",
            "[ dataset/images/val/baby_back_ribs/3598573.jpg ] was uploaded succesfully.\n",
            "[ dataset/images/val/baby_back_ribs/3612135.jpg ] was uploaded succesfully.\n",
            "[ dataset/images/val/baby_back_ribs/2406178.jpg ] was uploaded succesfully.\n",
            "[ dataset/images/val/baby_back_ribs/2232942.jpg ] was uploaded succesfully.\n",
            "[ dataset/images/val/baby_back_ribs/1976124.jpg ] was uploaded succesfully.\n",
            "[ dataset/images/val/baby_back_ribs/1821315.jpg ] was uploaded succesfully.\n",
            "[ dataset/images/val/baby_back_ribs/1959961.jpg ] was uploaded succesfully.\n",
            "[ dataset/images/val/baby_back_ribs/3383144.jpg ] was uploaded succesfully.\n",
            "[ dataset/images/val/baby_back_ribs/979979.jpg ] was uploaded succesfully.\n",
            "[ dataset/images/val/baby_back_ribs/3849802.jpg ] was uploaded succesfully.\n",
            "[ dataset/images/val/baby_back_ribs/1921931.jpg ] was uploaded succesfully.\n",
            "[ dataset/images/val/baby_back_ribs/549102.jpg ] was uploaded succesfully.\n",
            "[ dataset/images/val/baby_back_ribs/2473664.jpg ] was uploaded succesfully.\n",
            "[ dataset/images/val/baby_back_ribs/2551793.jpg ] was uploaded succesfully.\n",
            "[ dataset/images/val/baby_back_ribs/3085976.jpg ] was uploaded succesfully.\n",
            "[ dataset/images/val/baby_back_ribs/695291.jpg ] was uploaded succesfully.\n",
            "[ dataset/images/val/baby_back_ribs/2284261.jpg ] was uploaded succesfully.\n",
            "[ dataset/images/val/baby_back_ribs/112032.jpg ] was uploaded succesfully.\n",
            "[ dataset/images/val/baby_back_ribs/1571940.jpg ] was uploaded succesfully.\n",
            "[ dataset/images/val/baby_back_ribs/658561.jpg ] was uploaded succesfully.\n",
            "[ dataset/images/val/baby_back_ribs/119255.jpg ] was uploaded succesfully.\n",
            "[ dataset/images/val/baby_back_ribs/1138370.jpg ] was uploaded succesfully.\n",
            "[ dataset/images/val/baby_back_ribs/54203.jpg ] was uploaded succesfully.\n",
            "[ dataset/images/val/baby_back_ribs/1153453.jpg ] was uploaded succesfully.\n",
            "[ dataset/images/val/baby_back_ribs/3015302.jpg ] was uploaded succesfully.\n",
            "[ dataset/images/val/baby_back_ribs/3265047.jpg ] was uploaded succesfully.\n",
            "[ dataset/images/val/baby_back_ribs/2576256.jpg ] was uploaded succesfully.\n",
            "[ dataset/images/val/baby_back_ribs/910021.jpg ] was uploaded succesfully.\n",
            "[ dataset/images/val/baby_back_ribs/2655290.jpg ] was uploaded succesfully.\n",
            "[ dataset/images/val/baby_back_ribs/2464457.jpg ] was uploaded succesfully.\n",
            "[ dataset/images/val/baby_back_ribs/1880868.jpg ] was uploaded succesfully.\n",
            "[ dataset/images/val/baby_back_ribs/575090.jpg ] was uploaded succesfully.\n",
            "[ dataset/images/val/baby_back_ribs/3440901.jpg ] was uploaded succesfully.\n",
            "[ dataset/images/val/baby_back_ribs/389401.jpg ] was uploaded succesfully.\n",
            "[ dataset/images/val/baby_back_ribs/2275367.jpg ] was uploaded succesfully.\n",
            "[ dataset/images/val/baby_back_ribs/381199.jpg ] was uploaded succesfully.\n",
            "[ dataset/images/val/baby_back_ribs/1829271.jpg ] was uploaded succesfully.\n",
            "[ dataset/images/val/baby_back_ribs/774528.jpg ] was uploaded succesfully.\n",
            "[ dataset/images/val/baby_back_ribs/87739.jpg ] was uploaded succesfully.\n",
            "[ dataset/images/val/baby_back_ribs/307073.jpg ] was uploaded succesfully.\n",
            "[ dataset/images/val/baby_back_ribs/1239239.jpg ] was uploaded succesfully.\n",
            "[ dataset/images/val/baby_back_ribs/2901249.jpg ] was uploaded succesfully.\n",
            "[ dataset/images/val/baby_back_ribs/652170.jpg ] was uploaded succesfully.\n",
            "[ dataset/images/val/baby_back_ribs/2075034.jpg ] was uploaded succesfully.\n",
            "[ dataset/images/val/baby_back_ribs/2320542.jpg ] was uploaded succesfully.\n",
            "[ dataset/images/val/baby_back_ribs/3612206.jpg ] was uploaded succesfully.\n",
            "[ dataset/images/val/baby_back_ribs/1851892.jpg ] was uploaded succesfully.\n",
            "[ dataset/images/val/baby_back_ribs/528750.jpg ] was uploaded succesfully.\n",
            "[ dataset/images/val/baby_back_ribs/1520322.jpg ] was uploaded succesfully.\n",
            "[ dataset/images/val/baby_back_ribs/953087.jpg ] was uploaded succesfully.\n",
            "[ dataset/images/val/baby_back_ribs/2687000.jpg ] was uploaded succesfully.\n",
            "[ dataset/images/val/baby_back_ribs/2370716.jpg ] was uploaded succesfully.\n",
            "[ dataset/images/val/baby_back_ribs/994232.jpg ] was uploaded succesfully.\n",
            "[ dataset/images/val/baby_back_ribs/247539.jpg ] was uploaded succesfully.\n",
            "[ dataset/images/val/baby_back_ribs/1441141.jpg ] was uploaded succesfully.\n",
            "[ dataset/images/val/baby_back_ribs/2367209.jpg ] was uploaded succesfully.\n",
            "[ dataset/images/val/baby_back_ribs/259319.jpg ] was uploaded succesfully.\n",
            "[ dataset/images/val/baby_back_ribs/2270942.jpg ] was uploaded succesfully.\n",
            "[ dataset/images/val/baby_back_ribs/82439.jpg ] was uploaded succesfully.\n",
            "[ dataset/images/val/baby_back_ribs/1972389.jpg ] was uploaded succesfully.\n",
            "[ dataset/images/val/baby_back_ribs/1459848.jpg ] was uploaded succesfully.\n",
            "[ dataset/images/val/baby_back_ribs/1291979.jpg ] was uploaded succesfully.\n",
            "[ dataset/images/val/baby_back_ribs/1934927.jpg ] was uploaded succesfully.\n",
            "[ dataset/images/val/baby_back_ribs/1367931.jpg ] was uploaded succesfully.\n",
            "[ dataset/images/val/baby_back_ribs/269885.jpg ] was uploaded succesfully.\n",
            "[ dataset/images/val/baby_back_ribs/1098606.jpg ] was uploaded succesfully.\n",
            "[ dataset/images/val/baby_back_ribs/1478335.jpg ] was uploaded succesfully.\n",
            "[ dataset/images/val/baby_back_ribs/2483228.jpg ] was uploaded succesfully.\n",
            "[ dataset/images/val/baby_back_ribs/1588562.jpg ] was uploaded succesfully.\n",
            "[ dataset/images/val/baby_back_ribs/1934757.jpg ] was uploaded succesfully.\n",
            "[ dataset/images/val/baby_back_ribs/2816200.jpg ] was uploaded succesfully.\n",
            "[ dataset/images/val/baby_back_ribs/1074480.jpg ] was uploaded succesfully.\n",
            "[ dataset/images/val/baby_back_ribs/3700896.jpg ] was uploaded succesfully.\n",
            "[ dataset/images/val/baby_back_ribs/301527.jpg ] was uploaded succesfully.\n",
            "[ dataset/images/val/baby_back_ribs/699477.jpg ] was uploaded succesfully.\n",
            "[ dataset/images/val/baby_back_ribs/78713.jpg ] was uploaded succesfully.\n",
            "[ dataset/images/val/baby_back_ribs/540444.jpg ] was uploaded succesfully.\n",
            "[ dataset/images/val/baby_back_ribs/1763693.jpg ] was uploaded succesfully.\n",
            "[ dataset/images/val/baby_back_ribs/3381950.jpg ] was uploaded succesfully.\n",
            "[ dataset/images/val/baby_back_ribs/2452437.jpg ] was uploaded succesfully.\n",
            "[ dataset/images/val/baby_back_ribs/915852.jpg ] was uploaded succesfully.\n",
            "[ dataset/images/val/baby_back_ribs/3887363.jpg ] was uploaded succesfully.\n",
            "[ dataset/images/val/baby_back_ribs/1632377.jpg ] was uploaded succesfully.\n",
            "[ dataset/images/val/baby_back_ribs/510053.jpg ] was uploaded succesfully.\n",
            "[ dataset/images/val/baby_back_ribs/2502288.jpg ] was uploaded succesfully.\n",
            "[ dataset/images/val/baby_back_ribs/3730021.jpg ] was uploaded succesfully.\n",
            "[ dataset/images/val/baby_back_ribs/312747.jpg ] was uploaded succesfully.\n",
            "[ dataset/images/val/baby_back_ribs/3630917.jpg ] was uploaded succesfully.\n",
            "[ dataset/images/val/baby_back_ribs/1757611.jpg ] was uploaded succesfully.\n",
            "[ dataset/images/val/baby_back_ribs/1995647.jpg ] was uploaded succesfully.\n",
            "[ dataset/images/val/baby_back_ribs/312370.jpg ] was uploaded succesfully.\n",
            "[ dataset/images/val/baby_back_ribs/1421473.jpg ] was uploaded succesfully.\n",
            "[ dataset/images/val/baby_back_ribs/3837961.jpg ] was uploaded succesfully.\n",
            "[ dataset/images/val/baby_back_ribs/854578.jpg ] was uploaded succesfully.\n",
            "[ dataset/images/val/baby_back_ribs/3042778.jpg ] was uploaded succesfully.\n",
            "[ dataset/images/val/baby_back_ribs/2025526.jpg ] was uploaded succesfully.\n",
            "[ dataset/images/val/baby_back_ribs/2169715.jpg ] was uploaded succesfully.\n",
            "[ dataset/images/val/baby_back_ribs/1975684.jpg ] was uploaded succesfully.\n",
            "[ dataset/images/val/baby_back_ribs/109256.jpg ] was uploaded succesfully.\n",
            "[ dataset/images/val/baby_back_ribs/938822.jpg ] was uploaded succesfully.\n",
            "[ dataset/images/val/baby_back_ribs/2924393.jpg ] was uploaded succesfully.\n",
            "[ dataset/images/val/baby_back_ribs/3186969.jpg ] was uploaded succesfully.\n",
            "[ dataset/images/val/baby_back_ribs/620996.jpg ] was uploaded succesfully.\n",
            "[ dataset/images/val/baby_back_ribs/1009028.jpg ] was uploaded succesfully.\n",
            "[ dataset/images/val/baby_back_ribs/934716.jpg ] was uploaded succesfully.\n",
            "[ dataset/images/val/baby_back_ribs/951138.jpg ] was uploaded succesfully.\n",
            "[ dataset/images/val/baby_back_ribs/716804.jpg ] was uploaded succesfully.\n",
            "[ dataset/images/val/baby_back_ribs/1838405.jpg ] was uploaded succesfully.\n",
            "[ dataset/images/val/baby_back_ribs/443125.jpg ] was uploaded succesfully.\n",
            "[ dataset/images/val/baby_back_ribs/479382.jpg ] was uploaded succesfully.\n",
            "[ dataset/images/val/baby_back_ribs/736982.jpg ] was uploaded succesfully.\n",
            "[ dataset/images/val/baby_back_ribs/3664510.jpg ] was uploaded succesfully.\n",
            "[ dataset/images/val/baby_back_ribs/1211748.jpg ] was uploaded succesfully.\n",
            "[ dataset/images/val/baby_back_ribs/1552922.jpg ] was uploaded succesfully.\n",
            "[ dataset/images/val/baby_back_ribs/2517831.jpg ] was uploaded succesfully.\n",
            "[ dataset/images/val/baby_back_ribs/3412219.jpg ] was uploaded succesfully.\n",
            "[ dataset/images/val/baby_back_ribs/3331852.jpg ] was uploaded succesfully.\n",
            "[ dataset/images/val/baby_back_ribs/1299678.jpg ] was uploaded succesfully.\n",
            "[ dataset/images/val/baby_back_ribs/1395170.jpg ] was uploaded succesfully.\n",
            "[ dataset/images/val/baby_back_ribs/2079486.jpg ] was uploaded succesfully.\n",
            "[ dataset/images/val/baby_back_ribs/1558128.jpg ] was uploaded succesfully.\n",
            "[ dataset/images/val/baby_back_ribs/1841024.jpg ] was uploaded succesfully.\n",
            "[ dataset/images/val/baby_back_ribs/911906.jpg ] was uploaded succesfully.\n",
            "[ dataset/images/val/baby_back_ribs/2467975.jpg ] was uploaded succesfully.\n",
            "[ dataset/images/val/baby_back_ribs/2140118.jpg ] was uploaded succesfully.\n",
            "[ dataset/images/val/baby_back_ribs/1729685.jpg ] was uploaded succesfully.\n",
            "[ dataset/images/val/baby_back_ribs/1814986.jpg ] was uploaded succesfully.\n",
            "[ dataset/images/val/baby_back_ribs/2111577.jpg ] was uploaded succesfully.\n",
            "[ dataset/images/val/baby_back_ribs/2121992.jpg ] was uploaded succesfully.\n",
            "[ dataset/images/val/baby_back_ribs/2148879.jpg ] was uploaded succesfully.\n",
            "[ dataset/images/val/baby_back_ribs/3784453.jpg ] was uploaded succesfully.\n",
            "[ dataset/images/val/baby_back_ribs/3054571.jpg ] was uploaded succesfully.\n",
            "[ dataset/images/val/baby_back_ribs/3697532.jpg ] was uploaded succesfully.\n",
            "[ dataset/images/val/baby_back_ribs/563715.jpg ] was uploaded succesfully.\n",
            "[ dataset/images/val/baby_back_ribs/163622.jpg ] was uploaded succesfully.\n",
            "[ dataset/images/val/baby_back_ribs/617825.jpg ] was uploaded succesfully.\n",
            "[ dataset/images/val/baby_back_ribs/2472060.jpg ] was uploaded succesfully.\n",
            "[ dataset/images/val/baby_back_ribs/1567658.jpg ] was uploaded succesfully.\n",
            "[ dataset/images/val/baby_back_ribs/2372584.jpg ] was uploaded succesfully.\n",
            "[ dataset/images/val/baby_back_ribs/2474880.jpg ] was uploaded succesfully.\n",
            "[ dataset/images/val/baby_back_ribs/295694.jpg ] was uploaded succesfully.\n",
            "[ dataset/images/val/baby_back_ribs/879096.jpg ] was uploaded succesfully.\n",
            "[ dataset/images/val/baby_back_ribs/1078518.jpg ] was uploaded succesfully.\n",
            "[ dataset/images/val/baby_back_ribs/1640728.jpg ] was uploaded succesfully.\n",
            "[ dataset/images/val/baby_back_ribs/3010007.jpg ] was uploaded succesfully.\n",
            "[ dataset/images/val/baby_back_ribs/2710638.jpg ] was uploaded succesfully.\n",
            "[ dataset/images/val/baby_back_ribs/3247058.jpg ] was uploaded succesfully.\n",
            "[ dataset/images/val/baby_back_ribs/759979.jpg ] was uploaded succesfully.\n",
            "[ dataset/images/val/baby_back_ribs/2032061.jpg ] was uploaded succesfully.\n",
            "[ dataset/images/val/baby_back_ribs/1941557.jpg ] was uploaded succesfully.\n",
            "[ dataset/images/val/baby_back_ribs/693981.jpg ] was uploaded succesfully.\n",
            "[ dataset/images/val/baby_back_ribs/3124916.jpg ] was uploaded succesfully.\n",
            "[ dataset/images/val/baby_back_ribs/2561928.jpg ] was uploaded succesfully.\n",
            "[ dataset/images/val/baby_back_ribs/89493.jpg ] was uploaded succesfully.\n",
            "[ dataset/images/val/baby_back_ribs/3180627.jpg ] was uploaded succesfully.\n",
            "[ dataset/images/val/baby_back_ribs/2013073.jpg ] was uploaded succesfully.\n",
            "[ dataset/images/val/baby_back_ribs/2889003.jpg ] was uploaded succesfully.\n",
            "[ dataset/images/val/baby_back_ribs/3142395.jpg ] was uploaded succesfully.\n",
            "[ dataset/images/val/baby_back_ribs/2182863.jpg ] was uploaded succesfully.\n",
            "[ dataset/images/val/baby_back_ribs/1262675.jpg ] was uploaded succesfully.\n",
            "[ dataset/images/val/baby_back_ribs/3550418.jpg ] was uploaded succesfully.\n",
            "[ dataset/images/val/baby_back_ribs/68204.jpg ] was uploaded succesfully.\n",
            "[ dataset/images/val/baby_back_ribs/758002.jpg ] was uploaded succesfully.\n",
            "[ dataset/images/val/baby_back_ribs/3575404.jpg ] was uploaded succesfully.\n",
            "[ dataset/images/val/baby_back_ribs/603308.jpg ] was uploaded succesfully.\n",
            "[ dataset/images/val/baby_back_ribs/1676905.jpg ] was uploaded succesfully.\n",
            "[ dataset/images/val/baby_back_ribs/108211.jpg ] was uploaded succesfully.\n",
            "[ dataset/images/val/baby_back_ribs/470646.jpg ] was uploaded succesfully.\n",
            "[ dataset/images/val/baby_back_ribs/835791.jpg ] was uploaded succesfully.\n",
            "[ dataset/images/val/baby_back_ribs/668551.jpg ] was uploaded succesfully.\n",
            "[ dataset/images/val/baby_back_ribs/1259396.jpg ] was uploaded succesfully.\n",
            "[ dataset/images/val/baby_back_ribs/1324788.jpg ] was uploaded succesfully.\n",
            "[ dataset/images/val/baby_back_ribs/968229.jpg ] was uploaded succesfully.\n",
            "[ dataset/images/val/baby_back_ribs/898116.jpg ] was uploaded succesfully.\n",
            "[ dataset/images/val/baby_back_ribs/2774533.jpg ] was uploaded succesfully.\n",
            "[ dataset/images/val/baby_back_ribs/1943575.jpg ] was uploaded succesfully.\n",
            "[ dataset/images/val/baby_back_ribs/1330649.jpg ] was uploaded succesfully.\n",
            "[ dataset/images/val/baby_back_ribs/1394367.jpg ] was uploaded succesfully.\n",
            "[ dataset/images/val/baby_back_ribs/65686.jpg ] was uploaded succesfully.\n",
            "[ dataset/images/val/baby_back_ribs/1735046.jpg ] was uploaded succesfully.\n",
            "[ dataset/images/val/baby_back_ribs/570001.jpg ] was uploaded succesfully.\n",
            "[ dataset/images/val/baby_back_ribs/2889837.jpg ] was uploaded succesfully.\n",
            "[ dataset/images/val/baby_back_ribs/2710948.jpg ] was uploaded succesfully.\n",
            "[ dataset/images/val/baby_back_ribs/1716566.jpg ] was uploaded succesfully.\n",
            "[ dataset/images/val/baby_back_ribs/678583.jpg ] was uploaded succesfully.\n",
            "[ dataset/images/val/baby_back_ribs/3057918.jpg ] was uploaded succesfully.\n"
          ]
        }
      ]
    },
    {
      "cell_type": "code",
      "source": [
        "from roboflow import Roboflow\n",
        "rf = Roboflow(api_key=\"XoyU1zhibAWn6eowNgR4\")\n",
        "project = rf.workspace(\"foodrecognitionknu\").project(\"food-recognition-obwwe\")\n",
        "version = project.version(4)\n",
        "dataset = version.download(\"yolov8\")\n",
        ""
      ],
      "metadata": {
        "colab": {
          "base_uri": "https://localhost:8080/"
        },
        "id": "WRr7mzrks6Ws",
        "outputId": "5a5b029a-5011-4429-8d43-50bfe5c959da"
      },
      "execution_count": 25,
      "outputs": [
        {
          "output_type": "stream",
          "name": "stdout",
          "text": [
            "loading Roboflow workspace...\n",
            "loading Roboflow project...\n"
          ]
        },
        {
          "output_type": "stream",
          "name": "stderr",
          "text": [
            "Downloading Dataset Version Zip in Food-recognition-4 to yolov8:: 100%|██████████| 11272/11272 [00:00<00:00, 38674.64it/s]"
          ]
        },
        {
          "output_type": "stream",
          "name": "stdout",
          "text": [
            "\n"
          ]
        },
        {
          "output_type": "stream",
          "name": "stderr",
          "text": [
            "\n",
            "Extracting Dataset Version Zip to Food-recognition-4 in yolov8:: 100%|██████████| 406/406 [00:00<00:00, 6617.09it/s]\n"
          ]
        }
      ]
    },
    {
      "cell_type": "code",
      "source": [
        "import shutil\n",
        "\n",
        "# Define the apple_pie folder path\n",
        "apple_pie_path = \"dataset/images/val/baby_back_ribs\"\n",
        "\n",
        "# Remove the folder and its contents\n",
        "shutil.rmtree(apple_pie_path)\n",
        "\n",
        "# Recreate the empty folder\n",
        "import os\n",
        "os.makedirs(apple_pie_path)\n",
        "\n",
        "# Paths for source and destination folders\n",
        "images_source = \"Food-recognition-4/valid/images\"\n",
        "labels_source = \"Food-recognition-4/valid/labels\"\n",
        "destination = \"dataset/images/val/baby_back_ribs\"\n",
        "\n",
        "# Copy images\n",
        "shutil.copytree(images_source, os.path.join(destination, \"images\"))\n",
        "\n",
        "# Copy labels\n",
        "shutil.copytree(labels_source, os.path.join(destination, \"labels\"))\n"
      ],
      "metadata": {
        "colab": {
          "base_uri": "https://localhost:8080/",
          "height": 36
        },
        "id": "-dr9fPe7tGeH",
        "outputId": "ce1a7e8b-5013-4ebf-ce7d-49bde79d6044"
      },
      "execution_count": 26,
      "outputs": [
        {
          "output_type": "execute_result",
          "data": {
            "text/plain": [
              "'dataset/images/val/baby_back_ribs/labels'"
            ],
            "application/vnd.google.colaboratory.intrinsic+json": {
              "type": "string"
            }
          },
          "metadata": {},
          "execution_count": 26
        }
      ]
    }
  ],
  "metadata": {
    "accelerator": "GPU",
    "colab": {
      "gpuType": "T4",
      "provenance": [],
      "authorship_tag": "ABX9TyPZCFmjUGGvxlMMNY3tUzQV",
      "include_colab_link": true
    },
    "kernelspec": {
      "display_name": "Python 3",
      "name": "python3"
    },
    "language_info": {
      "name": "python"
    }
  },
  "nbformat": 4,
  "nbformat_minor": 0
}